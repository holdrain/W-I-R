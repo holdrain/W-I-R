{
 "cells": [
  {
   "cell_type": "code",
   "execution_count": 4,
   "metadata": {},
   "outputs": [
    {
     "name": "stdout",
     "output_type": "stream",
     "text": [
      "op:GN_0.1 (500, 6)\n",
      "{'model': 'GN_0.1', 'certified-acc': 1.0}\n",
      "op:GN_0.25 (500, 6)\n",
      "{'model': 'GN_0.25', 'certified-acc': 1.0}\n",
      "op:GN_0.5 (500, 6)\n",
      "{'model': 'GN_0.5', 'certified-acc': 1.0}\n",
      "op:affine_0.01 (500, 6)\n",
      "{'model': 'affine_0.01', 'certified-acc': 1.0}\n",
      "op:affine_0.02 (500, 6)\n",
      "{'model': 'affine_0.02', 'certified-acc': 1.0}\n",
      "op:affine_0.03 (500, 6)\n",
      "{'model': 'affine_0.03', 'certified-acc': 1.0}\n",
      "op:miGN_0.1 (500, 6)\n",
      "{'model': 'miGN_0.1', 'certified-acc': 1.0}\n",
      "op:miGN_0.25 (500, 6)\n",
      "{'model': 'miGN_0.25', 'certified-acc': 1.0}\n",
      "op:miGN_0.5 (500, 6)\n",
      "{'model': 'miGN_0.5', 'certified-acc': 1.0}\n",
      "op:miaffine_0.01 (500, 6)\n",
      "{'model': 'miaffine_0.01', 'certified-acc': 1.0}\n",
      "op:miaffine_0.02 (500, 6)\n",
      "{'model': 'miaffine_0.02', 'certified-acc': 1.0}\n",
      "op:miaffine_0.03 (500, 6)\n",
      "{'model': 'miaffine_0.03', 'certified-acc': 1.0}\n"
     ]
    }
   ],
   "source": [
    "import pandas as pd\n",
    "import os\n",
    "import csv\n",
    "dataset = \"celeb\"\n",
    "model_choice = \"stega\"\n",
    "\n",
    "message_length = {'stega':100,'hidden':100}\n",
    "outfile = f\"output/acc/{dataset}/{model_choice}/result.csv\"\n",
    "if not os.path.exists(os.path.dirname(outfile)):\n",
    "    os.makedirs(os.path.dirname(outfile))\n",
    "txt_file_dir = f\"output/certify/{dataset}/{model_choice}\"\n",
    "op_list = sorted(os.listdir(txt_file_dir))\n",
    "# op_list = ['newGN_0.1','newGN_0.25','newGN_0.5','newmiGN_0.1','newmiGN_0.25','newmiGN_0.5',\n",
    "#            'newaffine_0.01','newaffine_0.02','newaffine_0.03','newmiaffine_0.01','newmiaffine_0.02','newmiaffine_0.03']\n",
    "for op in op_list:\n",
    "    if \"scaling\" in op:\n",
    "        continue\n",
    "    txt_file_path = os.path.join(txt_file_dir,op,'result0-500.txt',)\n",
    "    df = pd.read_csv(txt_file_path, sep='\\t',on_bad_lines='skip')\n",
    "    print(f\"op:{op}\",df.shape)\n",
    "    try:\n",
    "        correct_mean = df['correct'].mean()\n",
    "    except Exception as e:\n",
    "        print(e)\n",
    "        print(op)\n",
    "    acc = round(correct_mean,4)\n",
    "    csv_dict = {\"model\":op,\"certified-acc\":acc}\n",
    "    print(csv_dict)\n",
    "    with open(outfile, mode='a', newline='') as file:\n",
    "        fieldnames = csv_dict.keys()\n",
    "        writer = csv.DictWriter(file, fieldnames=fieldnames)\n",
    "        if file.tell() == 0:\n",
    "            writer.writeheader()\n",
    "        writer.writerow(csv_dict)"
   ]
  }
 ],
 "metadata": {
  "kernelspec": {
   "display_name": "torch200",
   "language": "python",
   "name": "python3"
  },
  "language_info": {
   "codemirror_mode": {
    "name": "ipython",
    "version": 3
   },
   "file_extension": ".py",
   "mimetype": "text/x-python",
   "name": "python",
   "nbconvert_exporter": "python",
   "pygments_lexer": "ipython3",
   "version": "3.10.0"
  }
 },
 "nbformat": 4,
 "nbformat_minor": 2
}
